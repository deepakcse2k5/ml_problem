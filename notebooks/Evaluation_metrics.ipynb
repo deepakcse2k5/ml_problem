{
 "cells": [
  {
   "cell_type": "code",
   "execution_count": 1,
   "id": "bf59f9ba-1861-4ea8-95af-d746b7509494",
   "metadata": {},
   "outputs": [],
   "source": [
    "def accuracy(y_true,y_pred):\n",
    "    counter = 0\n",
    "    for yt, yp in zip(y_true, y_pred):\n",
    "        if yt == yp:\n",
    "            counter+=1\n",
    "    return counter /len(y_true)\n",
    "            "
   ]
  },
  {
   "cell_type": "code",
   "execution_count": 3,
   "id": "9ca2dea9-b8a3-4b1f-a59d-996d5cba120d",
   "metadata": {},
   "outputs": [],
   "source": [
    "from sklearn import metrics"
   ]
  },
  {
   "cell_type": "code",
   "execution_count": 2,
   "id": "1e7ccea1-db04-46e9-85d7-f8d55f92069d",
   "metadata": {},
   "outputs": [],
   "source": [
    "l1 = [0,1,1,1,0,0,0,1]\n",
    "l2 = [0,1,0,1,0,1,0,0]"
   ]
  },
  {
   "cell_type": "code",
   "execution_count": 4,
   "id": "d002abe0-de0c-4e55-9f8b-7cb771da1ecf",
   "metadata": {},
   "outputs": [
    {
     "data": {
      "text/plain": [
       "0.625"
      ]
     },
     "execution_count": 4,
     "metadata": {},
     "output_type": "execute_result"
    }
   ],
   "source": [
    "metrics.accuracy_score(l1,l2)"
   ]
  },
  {
   "cell_type": "code",
   "execution_count": 5,
   "id": "f2eb0328-078f-44d3-b40e-014a5b75f337",
   "metadata": {},
   "outputs": [
    {
     "data": {
      "text/plain": [
       "0.625"
      ]
     },
     "execution_count": 5,
     "metadata": {},
     "output_type": "execute_result"
    }
   ],
   "source": [
    "accuracy(l1,l2)"
   ]
  },
  {
   "cell_type": "code",
   "execution_count": 6,
   "id": "426ccfaf-71d0-49a6-9902-c4a707483e9d",
   "metadata": {},
   "outputs": [],
   "source": [
    "def true_positive(y_true, y_pred):\n",
    "    tp =0\n",
    "    for yt, yp in zip(y_true, y_pred):\n",
    "        if yt==1 and yp==1:\n",
    "            tp+=1\n",
    "    return tp\n",
    "    "
   ]
  },
  {
   "cell_type": "code",
   "execution_count": 9,
   "id": "9cbea7c5-429a-46e3-8b73-a1e536fae5d5",
   "metadata": {},
   "outputs": [],
   "source": [
    "def true_negative(y_true,y_pred):\n",
    "    tn=0\n",
    "    for yt, yp in zip(y_true, y_pred):\n",
    "        if yt==0 and yp==0:\n",
    "            tn+=1\n",
    "    return tn"
   ]
  },
  {
   "cell_type": "code",
   "execution_count": 8,
   "id": "bc892624-66f8-49b1-b8b5-0d40c34c50bb",
   "metadata": {},
   "outputs": [],
   "source": [
    "def false_positive(y_true, y_pred):\n",
    "    fp =0\n",
    "    for yt, yp in zip(y_true, y_pred):\n",
    "        if yt==0 and yp==1:\n",
    "            fp+=1\n",
    "    return fp\n"
   ]
  },
  {
   "cell_type": "code",
   "execution_count": 10,
   "id": "a626f8c1-22f0-43d1-b2cb-9550c9468abc",
   "metadata": {},
   "outputs": [],
   "source": [
    "def false_negative(y_true, y_pred):\n",
    "    fn = 0\n",
    "    for yt, yp in zip(y_true, y_pred):\n",
    "        if yt==1 and yp==0:\n",
    "            fn+=1\n",
    "    return fn"
   ]
  },
  {
   "cell_type": "code",
   "execution_count": 11,
   "id": "11d8add4-cc3c-4f6b-8739-cadbcb321bdf",
   "metadata": {},
   "outputs": [
    {
     "data": {
      "text/plain": [
       "2"
      ]
     },
     "execution_count": 11,
     "metadata": {},
     "output_type": "execute_result"
    }
   ],
   "source": [
    "true_positive(l1,l2)"
   ]
  },
  {
   "cell_type": "code",
   "execution_count": 12,
   "id": "62afd967-ba54-456d-9df9-ba8856fc0f62",
   "metadata": {},
   "outputs": [
    {
     "data": {
      "text/plain": [
       "3"
      ]
     },
     "execution_count": 12,
     "metadata": {},
     "output_type": "execute_result"
    }
   ],
   "source": [
    "true_negative(l1, l2)"
   ]
  },
  {
   "cell_type": "code",
   "execution_count": 13,
   "id": "297c609c-24a3-450a-9212-5957b37bd161",
   "metadata": {},
   "outputs": [
    {
     "data": {
      "text/plain": [
       "1"
      ]
     },
     "execution_count": 13,
     "metadata": {},
     "output_type": "execute_result"
    }
   ],
   "source": [
    "false_positive(l1, l2)"
   ]
  },
  {
   "cell_type": "code",
   "execution_count": 14,
   "id": "2dda3a78-7a0c-418a-93ec-e1fc43d92b78",
   "metadata": {},
   "outputs": [
    {
     "data": {
      "text/plain": [
       "2"
      ]
     },
     "execution_count": 14,
     "metadata": {},
     "output_type": "execute_result"
    }
   ],
   "source": [
    "false_negative(l1, l2)"
   ]
  },
  {
   "cell_type": "code",
   "execution_count": 22,
   "id": "ebc8c653-e989-4a1b-b09e-dc08a09f7213",
   "metadata": {},
   "outputs": [],
   "source": [
    "def accuracy_v2(y_true, y_pred):\n",
    "    tp = true_positive(l1,l2)\n",
    "    fp = false_positive(l1, l2)\n",
    "    tn = true_negative(l1, l2)\n",
    "    fn = false_negative(l1, l2)\n",
    "    accuracy_score = (tp+tn)/ ( tp+fp+tn+fn)\n",
    "    precision = tp/(tp+fp)\n",
    "    recall = tp/(tp+fn)\n",
    "    return accuracy_score, round(precision,2), round(recall,2)"
   ]
  },
  {
   "cell_type": "code",
   "execution_count": 23,
   "id": "0e98f4ea-b656-4787-bc4d-f4ca11b4a1cf",
   "metadata": {},
   "outputs": [
    {
     "data": {
      "text/plain": [
       "(0.625, 0.67, 0.5)"
      ]
     },
     "execution_count": 23,
     "metadata": {},
     "output_type": "execute_result"
    }
   ],
   "source": [
    "accuracy_v2(l1, l2)"
   ]
  },
  {
   "cell_type": "code",
   "execution_count": null,
   "id": "0464d573-efe5-4689-809f-078a3d232cab",
   "metadata": {},
   "outputs": [],
   "source": []
  },
  {
   "cell_type": "code",
   "execution_count": null,
   "id": "098fac15-88df-4a9c-a533-c1e928c8c8dc",
   "metadata": {},
   "outputs": [],
   "source": []
  }
 ],
 "metadata": {
  "kernelspec": {
   "display_name": "Python 3 (ipykernel)",
   "language": "python",
   "name": "python3"
  },
  "language_info": {
   "codemirror_mode": {
    "name": "ipython",
    "version": 3
   },
   "file_extension": ".py",
   "mimetype": "text/x-python",
   "name": "python",
   "nbconvert_exporter": "python",
   "pygments_lexer": "ipython3",
   "version": "3.13.2"
  }
 },
 "nbformat": 4,
 "nbformat_minor": 5
}
